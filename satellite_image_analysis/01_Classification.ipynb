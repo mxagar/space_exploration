{
 "cells": [
  {
   "cell_type": "markdown",
   "id": "5f7df0b2-1d69-42ec-855b-785ab7613e93",
   "metadata": {},
   "source": [
    "# Satellite Image Classification Pixel-Wise"
   ]
  },
  {
   "cell_type": "code",
   "execution_count": null,
   "id": "8691daf1-4049-4b7a-8254-ea337a3c6efc",
   "metadata": {},
   "outputs": [],
   "source": []
  }
 ],
 "metadata": {
  "kernelspec": {
   "display_name": "Python 3 (ipykernel)",
   "language": "python",
   "name": "python3"
  },
  "language_info": {
   "codemirror_mode": {
    "name": "ipython",
    "version": 3
   },
   "file_extension": ".py",
   "mimetype": "text/x-python",
   "name": "python",
   "nbconvert_exporter": "python",
   "pygments_lexer": "ipython3",
   "version": "3.7.13"
  }
 },
 "nbformat": 4,
 "nbformat_minor": 5
}
