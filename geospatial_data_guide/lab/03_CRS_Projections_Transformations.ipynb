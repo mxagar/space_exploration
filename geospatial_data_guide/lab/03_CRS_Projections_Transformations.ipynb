{
 "cells": [
  {
   "cell_type": "markdown",
   "id": "bb8a7986-a76a-415d-a2dd-579fd52d71b4",
   "metadata": {},
   "source": [
    "# Projecting and Transforming Geometries"
   ]
  },
  {
   "cell_type": "code",
   "execution_count": null,
   "id": "86d33356-4db9-4e24-b83f-ad261562c77d",
   "metadata": {},
   "outputs": [],
   "source": []
  }
 ],
 "metadata": {
  "kernelspec": {
   "display_name": "Python 3 (ipykernel)",
   "language": "python",
   "name": "python3"
  },
  "language_info": {
   "codemirror_mode": {
    "name": "ipython",
    "version": 3
   },
   "file_extension": ".py",
   "mimetype": "text/x-python",
   "name": "python",
   "nbconvert_exporter": "python",
   "pygments_lexer": "ipython3",
   "version": "3.7.13"
  }
 },
 "nbformat": 4,
 "nbformat_minor": 5
}
