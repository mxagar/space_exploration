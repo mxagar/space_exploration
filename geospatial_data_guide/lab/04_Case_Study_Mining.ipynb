{
 "cells": [
  {
   "cell_type": "markdown",
   "id": "827dd094-c876-449f-9b47-c074e6905120",
   "metadata": {},
   "source": [
    "# Case Study: Artisanal Mining Sites in Congo"
   ]
  },
  {
   "cell_type": "markdown",
   "id": "610ed85f-7fcc-4f7a-bcf0-47813c4f99a6",
   "metadata": {},
   "source": [
    "In this notebook, a case study is analyzed: artisanal mining sites in Congo. The data set is from [IPIS: International Peace Service](https://ipisresearch.be). It contains information about the mines: location, minerals being mined, social insecurity situation. More information: [IPIS Open Data Tutorial](https://ipisresearch.be/wp-content/uploads/2018/03/Open_Data_Tutorial.html).\n",
    "\n",
    "Links to explore the dataset source repositories:\n",
    "\n",
    "- [IPIS Open Data](https://ipisresearch.be/home/maps-data/open-data/)\n",
    "- [World Resources Institute](https://www.wri.org/)\n",
    "\n",
    "Look at the companion guide: [`README.md`](../README.md).\n",
    "\n",
    "Table of contents:\n"
   ]
  },
  {
   "cell_type": "markdown",
   "id": "0e131986-430b-4a13-89d6-ce54070e8be9",
   "metadata": {},
   "source": [
    "## 4. Case Study: Artisanal Mining Sites"
   ]
  },
  {
   "cell_type": "markdown",
   "id": "66fc28ba-deea-47c5-9e88-6e9f6575821e",
   "metadata": {},
   "source": [
    "### 4.1 File Formats"
   ]
  },
  {
   "cell_type": "markdown",
   "id": "d7d5d47e-68fa-4ae5-8376-01bf0632dfa3",
   "metadata": {},
   "source": [
    "There are many file formats supported by Geopandas, with pros/cons:\n",
    "\n",
    "- ESRI Shapefiles: most extended, but distributed in several files, all necessary: `.shp`, `.dbf`, `shx`, `.prj`.\n",
    "- `GeoJSON`: lightweight, often used in web applications. \n",
    "- GeoPackage: `.gpkg`, new, with more capabilities\n",
    "- ...\n",
    "- Geopandas can also read from geo-databases, like [PostGIS](https://postgis.net/), a spatial databse extender for PostgreSQL.\n",
    "\n",
    "Geopandas can read and write those files: `.to_file()`:\n",
    "\n",
    "```python\n",
    "# Writing a Shapefile file\n",
    "geodataframe.to_file(\"mydata.shp\", driver='ESRI Shapefile')\n",
    "\n",
    "# Writing a GeoJSON file\n",
    "geodataframe.to_file(\"mydata.geojson\", driver='GeoJSON')\n",
    "\n",
    "# Writing a GeoPackage file\n",
    "geodataframe.to_file(\"mydata.gpkg\", driver='GPKG')\n",
    "```"
   ]
  },
  {
   "cell_type": "markdown",
   "id": "ba2b4472-1f31-4f94-a101-e318898dda55",
   "metadata": {},
   "source": [
    "### 4.2 Explore the Dataset"
   ]
  },
  {
   "cell_type": "code",
   "execution_count": 2,
   "id": "63b4eeff-8bcd-4580-b367-a1b81395b6e5",
   "metadata": {},
   "outputs": [],
   "source": [
    "import geopandas as gpd\n",
    "import matplotlib.pyplot as plt"
   ]
  },
  {
   "cell_type": "code",
   "execution_count": 3,
   "id": "53446fcc-4ed1-47bf-8309-dbebafbe445d",
   "metadata": {},
   "outputs": [],
   "source": [
    "DATA_PATH = \"../../data/work_geodata/Mines/\""
   ]
  },
  {
   "cell_type": "code",
   "execution_count": 4,
   "id": "d244d9c5-2929-4873-a843-0f350c5fbc96",
   "metadata": {},
   "outputs": [],
   "source": [
    "# Read the mining site data\n",
    "mining_sites = gpd.read_file(DATA_PATH+\"ipis_cod_mines.geojson\")"
   ]
  },
  {
   "cell_type": "code",
   "execution_count": 5,
   "id": "5f09bcff-57d6-42b8-bc1c-2abb86452e30",
   "metadata": {},
   "outputs": [
    {
     "data": {
      "text/html": [
       "<div>\n",
       "<style scoped>\n",
       "    .dataframe tbody tr th:only-of-type {\n",
       "        vertical-align: middle;\n",
       "    }\n",
       "\n",
       "    .dataframe tbody tr th {\n",
       "        vertical-align: top;\n",
       "    }\n",
       "\n",
       "    .dataframe thead th {\n",
       "        text-align: right;\n",
       "    }\n",
       "</style>\n",
       "<table border=\"1\" class=\"dataframe\">\n",
       "  <thead>\n",
       "    <tr style=\"text-align: right;\">\n",
       "      <th></th>\n",
       "      <th>visit_date</th>\n",
       "      <th>name</th>\n",
       "      <th>n_workers</th>\n",
       "      <th>mineral</th>\n",
       "      <th>geometry</th>\n",
       "    </tr>\n",
       "  </thead>\n",
       "  <tbody>\n",
       "    <tr>\n",
       "      <th>0</th>\n",
       "      <td>2013-03-27</td>\n",
       "      <td>Mayi-Tatu</td>\n",
       "      <td>150.0</td>\n",
       "      <td>Gold</td>\n",
       "      <td>POINT (29.66033 1.01089)</td>\n",
       "    </tr>\n",
       "    <tr>\n",
       "      <th>1</th>\n",
       "      <td>2013-03-27</td>\n",
       "      <td>Mabanga</td>\n",
       "      <td>115.0</td>\n",
       "      <td>Gold</td>\n",
       "      <td>POINT (29.65862 1.00308)</td>\n",
       "    </tr>\n",
       "    <tr>\n",
       "      <th>2</th>\n",
       "      <td>2013-03-27</td>\n",
       "      <td>Molende</td>\n",
       "      <td>130.0</td>\n",
       "      <td>Gold</td>\n",
       "      <td>POINT (29.65629 0.98563)</td>\n",
       "    </tr>\n",
       "    <tr>\n",
       "      <th>3</th>\n",
       "      <td>2013-03-27</td>\n",
       "      <td>Embouchure</td>\n",
       "      <td>135.0</td>\n",
       "      <td>Gold</td>\n",
       "      <td>POINT (29.64494 0.99976)</td>\n",
       "    </tr>\n",
       "    <tr>\n",
       "      <th>4</th>\n",
       "      <td>2013-03-27</td>\n",
       "      <td>Apumu-Atandele-Jerusalem-Luka Yayo</td>\n",
       "      <td>270.0</td>\n",
       "      <td>Gold</td>\n",
       "      <td>POINT (29.66000 0.95600)</td>\n",
       "    </tr>\n",
       "  </tbody>\n",
       "</table>\n",
       "</div>"
      ],
      "text/plain": [
       "   visit_date                                name  n_workers mineral  \\\n",
       "0  2013-03-27                           Mayi-Tatu      150.0    Gold   \n",
       "1  2013-03-27                             Mabanga      115.0    Gold   \n",
       "2  2013-03-27                             Molende      130.0    Gold   \n",
       "3  2013-03-27                          Embouchure      135.0    Gold   \n",
       "4  2013-03-27  Apumu-Atandele-Jerusalem-Luka Yayo      270.0    Gold   \n",
       "\n",
       "                   geometry  \n",
       "0  POINT (29.66033 1.01089)  \n",
       "1  POINT (29.65862 1.00308)  \n",
       "2  POINT (29.65629 0.98563)  \n",
       "3  POINT (29.64494 0.99976)  \n",
       "4  POINT (29.66000 0.95600)  "
      ]
     },
     "execution_count": 5,
     "metadata": {},
     "output_type": "execute_result"
    }
   ],
   "source": [
    "# Print the first rows and the CRS information\n",
    "mining_sites.head()"
   ]
  },
  {
   "cell_type": "code",
   "execution_count": 6,
   "id": "8faf264a-fc3e-4104-b63b-d0719bb394a3",
   "metadata": {},
   "outputs": [
    {
     "data": {
      "text/plain": [
       "(2143, 5)"
      ]
     },
     "execution_count": 6,
     "metadata": {},
     "output_type": "execute_result"
    }
   ],
   "source": [
    "mining_sites.shape"
   ]
  },
  {
   "cell_type": "code",
   "execution_count": 7,
   "id": "9539e2b8-a649-49e9-8a14-19e0b8c7a4fc",
   "metadata": {},
   "outputs": [
    {
     "name": "stdout",
     "output_type": "stream",
     "text": [
      "epsg:4326\n"
     ]
    }
   ],
   "source": [
    "print(mining_sites.crs)"
   ]
  },
  {
   "cell_type": "code",
   "execution_count": 8,
   "id": "2781cf89-ab75-48b1-995f-4d6bde4b41da",
   "metadata": {},
   "outputs": [
    {
     "data": {
      "text/plain": [
       "<AxesSubplot:>"
      ]
     },
     "execution_count": 8,
     "metadata": {},
     "output_type": "execute_result"
    },
    {
     "data": {
      "image/png": "[encoded data removed]",
      "text/plain": [
       "<Figure size 720x720 with 1 Axes>"
      ]
     },
     "metadata": {
      "needs_background": "light"
     },
     "output_type": "display_data"
    }
   ],
   "source": [
    "# Make a quick visualisation\n",
    "mining_sites.plot(figsize=(10,10))"
   ]
  },
  {
   "cell_type": "code",
   "execution_count": 9,
   "id": "13116192-3854-47e9-8b76-0de069fd5660",
   "metadata": {},
   "outputs": [],
   "source": [
    "# Read the Congo protected areas data\n",
    "protected_areas = gpd.read_file(DATA_PATH+\"wdpamay2017cod-shapefile-polygons.geojson\")"
   ]
  },
  {
   "cell_type": "code",
   "execution_count": 10,
   "id": "e997fe48-f805-4255-986f-88feae109dda",
   "metadata": {},
   "outputs": [
    {
     "name": "stderr",
     "output_type": "stream",
     "text": [
      "/Users/mxagar/opt/anaconda3/envs/ds/lib/python3.7/site-packages/geopandas/plotting.py:51: ShapelyDeprecationWarning: The 'type' attribute is deprecated, and will be removed in the future. You can use the 'geom_type' attribute instead.\n",
      "  if geom is not None and geom.type.startswith(prefix) and not geom.is_empty:\n"
     ]
    },
    {
     "data": {
      "text/plain": [
       "<AxesSubplot:>"
      ]
     },
     "execution_count": 10,
     "metadata": {},
     "output_type": "execute_result"
    },
    {
     "data": {
      "image/png": "[encoded data removed]",
      "text/plain": [
       "<Figure size 720x720 with 1 Axes>"
      ]
     },
     "metadata": {
      "needs_background": "light"
     },
     "output_type": "display_data"
    }
   ],
   "source": [
    "# Make a quick visualisation\n",
    "protected_areas.plot(figsize=(10,10))"
   ]
  },
  {
   "cell_type": "code",
   "execution_count": 11,
   "id": "4a518ed0-ea96-424d-8e80-86e79a33bc43",
   "metadata": {},
   "outputs": [],
   "source": [
    "# Convert both datasets to UTM projection\n",
    "mining_sites_utm = mining_sites.to_crs(epsg=32735)\n",
    "protected_areas_utm = protected_areas.to_crs(epsg=32735)"
   ]
  },
  {
   "cell_type": "code",
   "execution_count": 12,
   "id": "680eb70f-dcd6-4c6e-a0bf-6ca3356dd527",
   "metadata": {},
   "outputs": [
    {
     "name": "stderr",
     "output_type": "stream",
     "text": [
      "/Users/mxagar/opt/anaconda3/envs/ds/lib/python3.7/site-packages/geopandas/plotting.py:51: ShapelyDeprecationWarning: The 'type' attribute is deprecated, and will be removed in the future. You can use the 'geom_type' attribute instead.\n",
      "  if geom is not None and geom.type.startswith(prefix) and not geom.is_empty:\n"
     ]
    },
    {
     "data": {
      "image/png": "[encoded data removed]",
      "text/plain": [
       "<Figure size 720x720 with 1 Axes>"
      ]
     },
     "metadata": {
      "needs_background": "light"
     },
     "output_type": "display_data"
    }
   ],
   "source": [
    "# Visualize both datasets\n",
    "ax = protected_areas_utm.plot(color='orange',\n",
    "                              figsize=(10,10))\n",
    "mining_sites_utm.plot(ax=ax,\n",
    "                      markersize=5,\n",
    "                      column='mineral',\n",
    "                      #alpha=0.5,\n",
    "                      legend=True,\n",
    "                      legend_kwds={'loc':'upper left'})\n",
    "ax.set_axis_off()\n",
    "plt.show()"
   ]
  },
  {
   "cell_type": "code",
   "execution_count": 13,
   "id": "626e53cf-e641-4624-90cf-6a6ed20c7c26",
   "metadata": {},
   "outputs": [],
   "source": [
    "# Write converted data to a file\n",
    "# Warning: With SHP, several files created - all necessary!\n",
    "mining_sites_utm.to_file(DATA_PATH+\"ipis_cod_mines_utm.gpkg\", driver='GPKG')\n",
    "protected_areas_utm.to_file(DATA_PATH+\"cod_conservation_utm.shp\", driver='ESRI Shapefile')"
   ]
  },
  {
   "cell_type": "markdown",
   "id": "6bf329dc-0aa5-4201-b798-009ff66ae428",
   "metadata": {},
   "source": [
    "### 4.3 Additional Spatial Operations: Unary Union and Buffer"
   ]
  },
  {
   "cell_type": "markdown",
   "id": "09fcab6d-705a-4c9f-ac59-bb8ca2292108",
   "metadata": {},
   "source": [
    "We have seen many spatial operations:\n",
    "\n",
    "- Boolean spatial relationships: `intersects`, etc. \n",
    "- Geometry operations: `intersection`, etc.\n",
    "- Spatial joins.\n",
    "- Combined geometries with overlay.\n",
    "\n",
    "There are other common spatial operations:\n",
    "\n",
    "- **Unary union**: given a `GeoSeries`, i.e., a colum/series of `geometry` objects, create a geometry that unites and contains all of them. Example: given all countries in a continent, create the polygon of the continent.\n",
    "- **Buffer**: given a geometry, create an *inflated* geometry which contains it witha a safety/distance margin. Example: create a 2km distance area around a river (a line)."
   ]
  },
  {
   "cell_type": "markdown",
   "id": "4d41905f-86a3-48cd-a8cd-33ccd0a819d2",
   "metadata": {},
   "source": [
    "#### Example 1: National Park Area and Mines in 50 km around City of Goma"
   ]
  },
  {
   "cell_type": "code",
   "execution_count": 14,
   "id": "512ccbaa-0d1f-43bf-86f7-72d9b19a8772",
   "metadata": {},
   "outputs": [],
   "source": [
    "from shapely.geometry import Point\n",
    "import geopandas as gpd"
   ]
  },
  {
   "cell_type": "code",
   "execution_count": 15,
   "id": "22d474b1-2c1e-4926-9c56-f0b91d0a449a",
   "metadata": {},
   "outputs": [],
   "source": [
    "goma = Point(746989.5594829298, 9816380.942287602)"
   ]
  },
  {
   "cell_type": "code",
   "execution_count": 16,
   "id": "a308980d-3650-4be7-a496-65bbd63f6c59",
   "metadata": {},
   "outputs": [
    {
     "name": "stdout",
     "output_type": "stream",
     "text": [
      "<class 'shapely.geometry.point.Point'>\n",
      "<class 'shapely.geometry.polygon.Polygon'>\n",
      "7841.371226364861\n",
      "87\n",
      "3894.8385678792906\n"
     ]
    }
   ],
   "source": [
    "# goma is a Point: 746989.5594829298 9816380.942287602\n",
    "print(type(goma))\n",
    "\n",
    "# Create a buffer of 50km around Goma\n",
    "goma_buffer = goma.buffer(50000)\n",
    "\n",
    "# The buffer is a polygon\n",
    "print(type(goma_buffer))\n",
    "\n",
    "# Area of circle centered in Goma: pi*R^2\n",
    "print(goma_buffer.area / (1000**2))\n",
    "\n",
    "# Check how many sites are located within the buffer\n",
    "mask = mining_sites_utm.within(goma_buffer)\n",
    "print(mask.sum())\n",
    "\n",
    "# Calculate the area of national park within the buffer\n",
    "print(protected_areas_utm.intersection(goma_buffer).geometry.area.sum() / (1000**2))"
   ]
  },
  {
   "cell_type": "markdown",
   "id": "d628f8a6-745f-4140-84fa-617dcd757c5d",
   "metadata": {},
   "source": [
    "#### Example 2: Mining Sites in National Parks"
   ]
  },
  {
   "cell_type": "code",
   "execution_count": 17,
   "id": "896d5ee7-1f9e-4d47-ae80-7e03fa61b1ee",
   "metadata": {},
   "outputs": [
    {
     "data": {
      "text/html": [
       "<div>\n",
       "<style scoped>\n",
       "    .dataframe tbody tr th:only-of-type {\n",
       "        vertical-align: middle;\n",
       "    }\n",
       "\n",
       "    .dataframe tbody tr th {\n",
       "        vertical-align: top;\n",
       "    }\n",
       "\n",
       "    .dataframe thead th {\n",
       "        text-align: right;\n",
       "    }\n",
       "</style>\n",
       "<table border=\"1\" class=\"dataframe\">\n",
       "  <thead>\n",
       "    <tr style=\"text-align: right;\">\n",
       "      <th></th>\n",
       "      <th>WDPAID</th>\n",
       "      <th>WDPA_PID</th>\n",
       "      <th>PA_DEF</th>\n",
       "      <th>NAME</th>\n",
       "      <th>ORIG_NAME</th>\n",
       "      <th>DESIG</th>\n",
       "      <th>DESIG_ENG</th>\n",
       "      <th>DESIG_TYPE</th>\n",
       "      <th>IUCN_CAT</th>\n",
       "      <th>INT_CRIT</th>\n",
       "      <th>...</th>\n",
       "      <th>GOV_TYPE</th>\n",
       "      <th>OWN_TYPE</th>\n",
       "      <th>MANG_AUTH</th>\n",
       "      <th>MANG_PLAN</th>\n",
       "      <th>VERIF</th>\n",
       "      <th>METADATAID</th>\n",
       "      <th>SUB_LOC</th>\n",
       "      <th>PARENT_ISO</th>\n",
       "      <th>ISO3</th>\n",
       "      <th>geometry</th>\n",
       "    </tr>\n",
       "  </thead>\n",
       "  <tbody>\n",
       "    <tr>\n",
       "      <th>0</th>\n",
       "      <td>555555524.0</td>\n",
       "      <td>555555524</td>\n",
       "      <td>1</td>\n",
       "      <td>Lyondji Bonobo Community Reserve</td>\n",
       "      <td>Réserve Communautaires des Bonobos d' Iyondji</td>\n",
       "      <td>Forêt Classée et Réserve Communautaire</td>\n",
       "      <td>Classified Forest and Community Reserve</td>\n",
       "      <td>National</td>\n",
       "      <td>Not Reported</td>\n",
       "      <td>Not Applicable</td>\n",
       "      <td>...</td>\n",
       "      <td>Collaborative governance</td>\n",
       "      <td>Not Reported</td>\n",
       "      <td>l'Institut CongolaispourConservation dela Natu...</td>\n",
       "      <td>Not Reported</td>\n",
       "      <td>Not Reported</td>\n",
       "      <td>1717</td>\n",
       "      <td>Not Reported</td>\n",
       "      <td>COD</td>\n",
       "      <td>COD</td>\n",
       "      <td>MULTIPOLYGON (((30396.594 10020600.079, 30542....</td>\n",
       "    </tr>\n",
       "    <tr>\n",
       "      <th>1</th>\n",
       "      <td>478291.0</td>\n",
       "      <td>478291</td>\n",
       "      <td>1</td>\n",
       "      <td>Parc national des Virunga</td>\n",
       "      <td>Parc national des Virunga</td>\n",
       "      <td>Ramsar Site, Wetland of International Importance</td>\n",
       "      <td>Ramsar Site, Wetland of International Importance</td>\n",
       "      <td>International</td>\n",
       "      <td>Not Reported</td>\n",
       "      <td>Not Reported</td>\n",
       "      <td>...</td>\n",
       "      <td>Not Reported</td>\n",
       "      <td>Not Reported</td>\n",
       "      <td>Not Reported</td>\n",
       "      <td>Management plan is not implented but is available</td>\n",
       "      <td>State Verified</td>\n",
       "      <td>1856</td>\n",
       "      <td>Not Reported</td>\n",
       "      <td>COD</td>\n",
       "      <td>COD</td>\n",
       "      <td>MULTIPOLYGON (((735540.644 9817696.449, 735598...</td>\n",
       "    </tr>\n",
       "    <tr>\n",
       "      <th>2</th>\n",
       "      <td>72340.0</td>\n",
       "      <td>72340</td>\n",
       "      <td>1</td>\n",
       "      <td>Luo Scientific Reserve</td>\n",
       "      <td>Réserve Scientifique de la Luo</td>\n",
       "      <td>Réserve</td>\n",
       "      <td>Scientific Reserve</td>\n",
       "      <td>National</td>\n",
       "      <td>Not Reported</td>\n",
       "      <td>Not Applicable</td>\n",
       "      <td>...</td>\n",
       "      <td>Government-delegated management</td>\n",
       "      <td>Not Reported</td>\n",
       "      <td>Center for Research in Natural Sciences (CRSN/...</td>\n",
       "      <td>Not Reported</td>\n",
       "      <td>Not Reported</td>\n",
       "      <td>1717</td>\n",
       "      <td>Not Reported</td>\n",
       "      <td>COD</td>\n",
       "      <td>COD</td>\n",
       "      <td>MULTIPOLYGON (((6196.581 10027613.404, 6856.29...</td>\n",
       "    </tr>\n",
       "    <tr>\n",
       "      <th>3</th>\n",
       "      <td>478292.0</td>\n",
       "      <td>478292</td>\n",
       "      <td>1</td>\n",
       "      <td>Salonga</td>\n",
       "      <td>Parc National de la Salonga</td>\n",
       "      <td>Réserve Naturelle Integrale</td>\n",
       "      <td>Integrale Nature Reserve</td>\n",
       "      <td>National</td>\n",
       "      <td>II</td>\n",
       "      <td>Not Applicable</td>\n",
       "      <td>...</td>\n",
       "      <td>Not Reported</td>\n",
       "      <td>Not Reported</td>\n",
       "      <td>Not Reported</td>\n",
       "      <td>Not Reported</td>\n",
       "      <td>Not Reported</td>\n",
       "      <td>1717</td>\n",
       "      <td>Not Reported</td>\n",
       "      <td>COD</td>\n",
       "      <td>COD</td>\n",
       "      <td>MULTIPOLYGON (((-227210.952 9829733.977, -2271...</td>\n",
       "    </tr>\n",
       "    <tr>\n",
       "      <th>4</th>\n",
       "      <td>9143.0</td>\n",
       "      <td>9143</td>\n",
       "      <td>1</td>\n",
       "      <td>Réserve forestière de Luki</td>\n",
       "      <td>Réserve forestière de Luki</td>\n",
       "      <td>UNESCO-MAB Biosphere Reserve</td>\n",
       "      <td>UNESCO-MAB Biosphere Reserve</td>\n",
       "      <td>International</td>\n",
       "      <td>Not Applicable</td>\n",
       "      <td>Not Applicable</td>\n",
       "      <td>...</td>\n",
       "      <td>Not Reported</td>\n",
       "      <td>Not Reported</td>\n",
       "      <td>Not Reported</td>\n",
       "      <td>Not Reported</td>\n",
       "      <td>Not Reported</td>\n",
       "      <td>715</td>\n",
       "      <td>CD-KW</td>\n",
       "      <td>COD</td>\n",
       "      <td>COD</td>\n",
       "      <td>MULTIPOLYGON (((-1038605.456 9373038.040, -103...</td>\n",
       "    </tr>\n",
       "  </tbody>\n",
       "</table>\n",
       "<p>5 rows × 29 columns</p>\n",
       "</div>"
      ],
      "text/plain": [
       "        WDPAID   WDPA_PID PA_DEF                              NAME  \\\n",
       "0  555555524.0  555555524      1  Lyondji Bonobo Community Reserve   \n",
       "1     478291.0     478291      1         Parc national des Virunga   \n",
       "2      72340.0      72340      1            Luo Scientific Reserve   \n",
       "3     478292.0     478292      1                           Salonga   \n",
       "4       9143.0       9143      1        Réserve forestière de Luki   \n",
       "\n",
       "                                       ORIG_NAME  \\\n",
       "0  Réserve Communautaires des Bonobos d' Iyondji   \n",
       "1                      Parc national des Virunga   \n",
       "2                 Réserve Scientifique de la Luo   \n",
       "3                    Parc National de la Salonga   \n",
       "4                     Réserve forestière de Luki   \n",
       "\n",
       "                                              DESIG  \\\n",
       "0            Forêt Classée et Réserve Communautaire   \n",
       "1  Ramsar Site, Wetland of International Importance   \n",
       "2                                           Réserve   \n",
       "3                       Réserve Naturelle Integrale   \n",
       "4                      UNESCO-MAB Biosphere Reserve   \n",
       "\n",
       "                                          DESIG_ENG     DESIG_TYPE  \\\n",
       "0           Classified Forest and Community Reserve       National   \n",
       "1  Ramsar Site, Wetland of International Importance  International   \n",
       "2                                Scientific Reserve       National   \n",
       "3                          Integrale Nature Reserve       National   \n",
       "4                      UNESCO-MAB Biosphere Reserve  International   \n",
       "\n",
       "         IUCN_CAT        INT_CRIT  ...                         GOV_TYPE  \\\n",
       "0    Not Reported  Not Applicable  ...         Collaborative governance   \n",
       "1    Not Reported    Not Reported  ...                     Not Reported   \n",
       "2    Not Reported  Not Applicable  ...  Government-delegated management   \n",
       "3              II  Not Applicable  ...                     Not Reported   \n",
       "4  Not Applicable  Not Applicable  ...                     Not Reported   \n",
       "\n",
       "       OWN_TYPE                                          MANG_AUTH  \\\n",
       "0  Not Reported  l'Institut CongolaispourConservation dela Natu...   \n",
       "1  Not Reported                                       Not Reported   \n",
       "2  Not Reported  Center for Research in Natural Sciences (CRSN/...   \n",
       "3  Not Reported                                       Not Reported   \n",
       "4  Not Reported                                       Not Reported   \n",
       "\n",
       "                                           MANG_PLAN           VERIF  \\\n",
       "0                                       Not Reported    Not Reported   \n",
       "1  Management plan is not implented but is available  State Verified   \n",
       "2                                       Not Reported    Not Reported   \n",
       "3                                       Not Reported    Not Reported   \n",
       "4                                       Not Reported    Not Reported   \n",
       "\n",
       "  METADATAID       SUB_LOC PARENT_ISO  ISO3  \\\n",
       "0       1717  Not Reported        COD   COD   \n",
       "1       1856  Not Reported        COD   COD   \n",
       "2       1717  Not Reported        COD   COD   \n",
       "3       1717  Not Reported        COD   COD   \n",
       "4        715         CD-KW        COD   COD   \n",
       "\n",
       "                                            geometry  \n",
       "0  MULTIPOLYGON (((30396.594 10020600.079, 30542....  \n",
       "1  MULTIPOLYGON (((735540.644 9817696.449, 735598...  \n",
       "2  MULTIPOLYGON (((6196.581 10027613.404, 6856.29...  \n",
       "3  MULTIPOLYGON (((-227210.952 9829733.977, -2271...  \n",
       "4  MULTIPOLYGON (((-1038605.456 9373038.040, -103...  \n",
       "\n",
       "[5 rows x 29 columns]"
      ]
     },
     "execution_count": 17,
     "metadata": {},
     "output_type": "execute_result"
    }
   ],
   "source": [
    "protected_areas_utm.head()"
   ]
  },
  {
   "cell_type": "code",
   "execution_count": 18,
   "id": "826d0491-5aea-47b6-884b-092881a1f152",
   "metadata": {},
   "outputs": [
    {
     "data": {
      "text/plain": [
       "Index(['WDPAID', 'WDPA_PID', 'PA_DEF', 'NAME', 'ORIG_NAME', 'DESIG',\n",
       "       'DESIG_ENG', 'DESIG_TYPE', 'IUCN_CAT', 'INT_CRIT', 'MARINE',\n",
       "       'REP_M_AREA', 'GIS_M_AREA', 'REP_AREA', 'GIS_AREA', 'NO_TAKE',\n",
       "       'NO_TK_AREA', 'STATUS', 'STATUS_YR', 'GOV_TYPE', 'OWN_TYPE',\n",
       "       'MANG_AUTH', 'MANG_PLAN', 'VERIF', 'METADATAID', 'SUB_LOC',\n",
       "       'PARENT_ISO', 'ISO3', 'geometry'],\n",
       "      dtype='object')"
      ]
     },
     "execution_count": 18,
     "metadata": {},
     "output_type": "execute_result"
    }
   ],
   "source": [
    "protected_areas_utm.columns"
   ]
  },
  {
   "cell_type": "code",
   "execution_count": 19,
   "id": "64099bb9-781f-48e0-a62d-479b1889e899",
   "metadata": {},
   "outputs": [
    {
     "name": "stdout",
     "output_type": "stream",
     "text": [
      "Empty GeoDataFrame\n",
      "Columns: [visit_date, name, n_workers, mineral, geometry]\n",
      "Index: []\n"
     ]
    },
    {
     "name": "stderr",
     "output_type": "stream",
     "text": [
      "/Users/mxagar/opt/anaconda3/envs/ds/lib/python3.7/site-packages/geopandas/base.py:31: UserWarning: The indices of the two GeoSeries are different.\n",
      "  warn(\"The indices of the two GeoSeries are different.\")\n",
      "/Users/mxagar/opt/anaconda3/envs/ds/lib/python3.7/site-packages/IPython/core/interactiveshell.py:3377: FutureWarning: The `op` parameter is deprecated and will be removed in a future release. Please use the `predicate` parameter instead.\n",
      "  if (await self.run_code(code, result,  async_=asy)):\n"
     ]
    }
   ],
   "source": [
    "# Extract the single polygon for the Kahuzi-Biega National park\n",
    "kahuzi = protected_areas_utm[protected_areas_utm['NAME'] == \"Kahuzi-Biega National park\"].geometry.squeeze()\n",
    "\n",
    "# Take a subset of the mining sites located within Kahuzi\n",
    "sites_kahuzi = mining_sites_utm[mining_sites_utm.within(kahuzi)]\n",
    "print(sites_kahuzi)\n",
    "\n",
    "# Determine in which national park a mining site is located\n",
    "sites_within_park = gpd.sjoin(mining_sites_utm,\n",
    "                              protected_areas_utm,\n",
    "                              op='within',\n",
    "                              how='inner')"
   ]
  },
  {
   "cell_type": "code",
   "execution_count": 20,
   "id": "5f4b9564-f261-493a-bcfa-0a96c3721cfc",
   "metadata": {},
   "outputs": [
    {
     "data": {
      "text/html": [
       "<div>\n",
       "<style scoped>\n",
       "    .dataframe tbody tr th:only-of-type {\n",
       "        vertical-align: middle;\n",
       "    }\n",
       "\n",
       "    .dataframe tbody tr th {\n",
       "        vertical-align: top;\n",
       "    }\n",
       "\n",
       "    .dataframe thead th {\n",
       "        text-align: right;\n",
       "    }\n",
       "</style>\n",
       "<table border=\"1\" class=\"dataframe\">\n",
       "  <thead>\n",
       "    <tr style=\"text-align: right;\">\n",
       "      <th></th>\n",
       "      <th>visit_date</th>\n",
       "      <th>name</th>\n",
       "      <th>n_workers</th>\n",
       "      <th>mineral</th>\n",
       "      <th>geometry</th>\n",
       "      <th>index_right</th>\n",
       "      <th>WDPAID</th>\n",
       "      <th>WDPA_PID</th>\n",
       "      <th>PA_DEF</th>\n",
       "      <th>NAME</th>\n",
       "      <th>...</th>\n",
       "      <th>STATUS_YR</th>\n",
       "      <th>GOV_TYPE</th>\n",
       "      <th>OWN_TYPE</th>\n",
       "      <th>MANG_AUTH</th>\n",
       "      <th>MANG_PLAN</th>\n",
       "      <th>VERIF</th>\n",
       "      <th>METADATAID</th>\n",
       "      <th>SUB_LOC</th>\n",
       "      <th>PARENT_ISO</th>\n",
       "      <th>ISO3</th>\n",
       "    </tr>\n",
       "  </thead>\n",
       "  <tbody>\n",
       "    <tr>\n",
       "      <th>253</th>\n",
       "      <td>2013-09-05</td>\n",
       "      <td>Kiviri/Tayna</td>\n",
       "      <td>244.0</td>\n",
       "      <td>Gold</td>\n",
       "      <td>POINT (709734.913 9961013.720)</td>\n",
       "      <td>23</td>\n",
       "      <td>317056.0</td>\n",
       "      <td>317056</td>\n",
       "      <td>1</td>\n",
       "      <td>Tayna</td>\n",
       "      <td>...</td>\n",
       "      <td>0</td>\n",
       "      <td>Not Reported</td>\n",
       "      <td>Not Reported</td>\n",
       "      <td>Not Reported</td>\n",
       "      <td>Not Reported</td>\n",
       "      <td>Not Reported</td>\n",
       "      <td>825</td>\n",
       "      <td>Not Reported</td>\n",
       "      <td>COD</td>\n",
       "      <td>COD</td>\n",
       "    </tr>\n",
       "    <tr>\n",
       "      <th>578</th>\n",
       "      <td>2015-09-02</td>\n",
       "      <td>Lubondozi 3</td>\n",
       "      <td>30.0</td>\n",
       "      <td>Gold</td>\n",
       "      <td>POINT (578464.315 9555456.293)</td>\n",
       "      <td>29</td>\n",
       "      <td>555512066.0</td>\n",
       "      <td>555512066</td>\n",
       "      <td>1</td>\n",
       "      <td>Luama-Kivu</td>\n",
       "      <td>...</td>\n",
       "      <td>0</td>\n",
       "      <td>Not Reported</td>\n",
       "      <td>Not Reported</td>\n",
       "      <td>Not Reported</td>\n",
       "      <td>Not Reported</td>\n",
       "      <td>Not Reported</td>\n",
       "      <td>825</td>\n",
       "      <td>Not Reported</td>\n",
       "      <td>COD</td>\n",
       "      <td>COD</td>\n",
       "    </tr>\n",
       "    <tr>\n",
       "      <th>579</th>\n",
       "      <td>2015-09-02</td>\n",
       "      <td>Katamu</td>\n",
       "      <td>180.0</td>\n",
       "      <td>Gold</td>\n",
       "      <td>POINT (576249.903 9554313.725)</td>\n",
       "      <td>29</td>\n",
       "      <td>555512066.0</td>\n",
       "      <td>555512066</td>\n",
       "      <td>1</td>\n",
       "      <td>Luama-Kivu</td>\n",
       "      <td>...</td>\n",
       "      <td>0</td>\n",
       "      <td>Not Reported</td>\n",
       "      <td>Not Reported</td>\n",
       "      <td>Not Reported</td>\n",
       "      <td>Not Reported</td>\n",
       "      <td>Not Reported</td>\n",
       "      <td>825</td>\n",
       "      <td>Not Reported</td>\n",
       "      <td>COD</td>\n",
       "      <td>COD</td>\n",
       "    </tr>\n",
       "    <tr>\n",
       "      <th>580</th>\n",
       "      <td>2015-09-02</td>\n",
       "      <td>Kimabwe 1</td>\n",
       "      <td>120.0</td>\n",
       "      <td>Gold</td>\n",
       "      <td>POINT (576425.777 9556329.634)</td>\n",
       "      <td>29</td>\n",
       "      <td>555512066.0</td>\n",
       "      <td>555512066</td>\n",
       "      <td>1</td>\n",
       "      <td>Luama-Kivu</td>\n",
       "      <td>...</td>\n",
       "      <td>0</td>\n",
       "      <td>Not Reported</td>\n",
       "      <td>Not Reported</td>\n",
       "      <td>Not Reported</td>\n",
       "      <td>Not Reported</td>\n",
       "      <td>Not Reported</td>\n",
       "      <td>825</td>\n",
       "      <td>Not Reported</td>\n",
       "      <td>COD</td>\n",
       "      <td>COD</td>\n",
       "    </tr>\n",
       "    <tr>\n",
       "      <th>581</th>\n",
       "      <td>2015-09-02</td>\n",
       "      <td>Lubondozi 1</td>\n",
       "      <td>300.0</td>\n",
       "      <td>Gold</td>\n",
       "      <td>POINT (579164.711 9554722.924)</td>\n",
       "      <td>29</td>\n",
       "      <td>555512066.0</td>\n",
       "      <td>555512066</td>\n",
       "      <td>1</td>\n",
       "      <td>Luama-Kivu</td>\n",
       "      <td>...</td>\n",
       "      <td>0</td>\n",
       "      <td>Not Reported</td>\n",
       "      <td>Not Reported</td>\n",
       "      <td>Not Reported</td>\n",
       "      <td>Not Reported</td>\n",
       "      <td>Not Reported</td>\n",
       "      <td>825</td>\n",
       "      <td>Not Reported</td>\n",
       "      <td>COD</td>\n",
       "      <td>COD</td>\n",
       "    </tr>\n",
       "  </tbody>\n",
       "</table>\n",
       "<p>5 rows × 34 columns</p>\n",
       "</div>"
      ],
      "text/plain": [
       "     visit_date          name  n_workers mineral  \\\n",
       "253  2013-09-05  Kiviri/Tayna      244.0    Gold   \n",
       "578  2015-09-02   Lubondozi 3       30.0    Gold   \n",
       "579  2015-09-02        Katamu      180.0    Gold   \n",
       "580  2015-09-02     Kimabwe 1      120.0    Gold   \n",
       "581  2015-09-02   Lubondozi 1      300.0    Gold   \n",
       "\n",
       "                           geometry  index_right       WDPAID   WDPA_PID  \\\n",
       "253  POINT (709734.913 9961013.720)           23     317056.0     317056   \n",
       "578  POINT (578464.315 9555456.293)           29  555512066.0  555512066   \n",
       "579  POINT (576249.903 9554313.725)           29  555512066.0  555512066   \n",
       "580  POINT (576425.777 9556329.634)           29  555512066.0  555512066   \n",
       "581  POINT (579164.711 9554722.924)           29  555512066.0  555512066   \n",
       "\n",
       "    PA_DEF        NAME  ... STATUS_YR      GOV_TYPE      OWN_TYPE  \\\n",
       "253      1       Tayna  ...         0  Not Reported  Not Reported   \n",
       "578      1  Luama-Kivu  ...         0  Not Reported  Not Reported   \n",
       "579      1  Luama-Kivu  ...         0  Not Reported  Not Reported   \n",
       "580      1  Luama-Kivu  ...         0  Not Reported  Not Reported   \n",
       "581      1  Luama-Kivu  ...         0  Not Reported  Not Reported   \n",
       "\n",
       "        MANG_AUTH     MANG_PLAN         VERIF METADATAID       SUB_LOC  \\\n",
       "253  Not Reported  Not Reported  Not Reported        825  Not Reported   \n",
       "578  Not Reported  Not Reported  Not Reported        825  Not Reported   \n",
       "579  Not Reported  Not Reported  Not Reported        825  Not Reported   \n",
       "580  Not Reported  Not Reported  Not Reported        825  Not Reported   \n",
       "581  Not Reported  Not Reported  Not Reported        825  Not Reported   \n",
       "\n",
       "     PARENT_ISO  ISO3  \n",
       "253         COD   COD  \n",
       "578         COD   COD  \n",
       "579         COD   COD  \n",
       "580         COD   COD  \n",
       "581         COD   COD  \n",
       "\n",
       "[5 rows x 34 columns]"
      ]
     },
     "execution_count": 20,
     "metadata": {},
     "output_type": "execute_result"
    }
   ],
   "source": [
    "sites_within_park.head()"
   ]
  },
  {
   "cell_type": "code",
   "execution_count": 21,
   "id": "bb454b0e-b2b5-4b53-b304-682a9303c889",
   "metadata": {},
   "outputs": [
    {
     "data": {
      "text/plain": [
       "(68, 34)"
      ]
     },
     "execution_count": 21,
     "metadata": {},
     "output_type": "execute_result"
    }
   ],
   "source": [
    "sites_within_park.shape"
   ]
  },
  {
   "cell_type": "code",
   "execution_count": 22,
   "id": "4ff690cc-938c-4f42-af38-752cd7181ba2",
   "metadata": {},
   "outputs": [
    {
     "data": {
      "text/plain": [
       "Itombwe                       21\n",
       "Kahuzi-Biega                  11\n",
       "Kahuzi-Biega National Park    10\n",
       "Luama-Kivu                     9\n",
       "Okapi                          5\n",
       "Okapi Wildlife Reserve         5\n",
       "Luama-Katanga                  3\n",
       "Maiko                          3\n",
       "Tayna                          1\n",
       "Name: NAME, dtype: int64"
      ]
     },
     "execution_count": 22,
     "metadata": {},
     "output_type": "execute_result"
    }
   ],
   "source": [
    "# The number of mining sites in each national park\n",
    "sites_within_park['NAME'].value_counts()"
   ]
  },
  {
   "cell_type": "markdown",
   "id": "40a1533c-b4a3-4c2e-8cfd-4de8ca69eb41",
   "metadata": {},
   "source": [
    "### 4.4 Custom Spatial Operations"
   ]
  },
  {
   "cell_type": "markdown",
   "id": "162cefe7-8c2b-46c2-853a-6bf13617eea9",
   "metadata": {},
   "source": [
    "We can use the available geometry operations to build custom functions that are applied to a `GeoSeries` using `GeoSeries.apply(function, **kwargs)`.\n",
    "\n",
    "For instance, image we want to measure the river length in an area of 50 km radius of the cities contained in a dataset:\n",
    "\n",
    "```python\n",
    "# Define the specific operation function\n",
    "def river_length(geom, rivers):\n",
    "    area = geom.buffer(50000)\n",
    "    rivers_within_area = rivers.intersection(area)\n",
    "    return rivers_within_area.length.sum() / 1000\n",
    "\n",
    "# The function works with a single geometry\n",
    "river_length(cairo, rivers=rivers) # 186.39\n",
    "\n",
    "# And it works with a GeoDataFrame geometry column or a GeoSeries\n",
    "# We can store the result as a column\n",
    "cities['river_length'] = cities.geometry.apply(river_length, rivers=rivers)\n",
    "```"
   ]
  },
  {
   "cell_type": "markdown",
   "id": "56e2095f-eb91-4346-8d84-f33163925c5c",
   "metadata": {},
   "source": [
    "#### Example 1: Distance from Parks to Mines"
   ]
  },
  {
   "cell_type": "code",
   "execution_count": 23,
   "id": "2aec8432-9df7-4ca0-9e61-8cc68dcd3b3c",
   "metadata": {},
   "outputs": [
    {
     "name": "stdout",
     "output_type": "stream",
     "text": [
      "Virunga\n"
     ]
    }
   ],
   "source": [
    "# Get the geometry of the first row\n",
    "single_mine = mining_sites_utm.geometry[0]\n",
    "\n",
    "# Calculate the distance from each national park to this mine\n",
    "dist = protected_areas_utm.distance(single_mine)\n",
    "\n",
    "# The index of the minimal distance\n",
    "idx = dist.idxmin()\n",
    "\n",
    "# Access the name of the corresponding national park\n",
    "closest_park = protected_areas_utm.loc[idx, 'NAME']\n",
    "print(closest_park)"
   ]
  },
  {
   "cell_type": "markdown",
   "id": "95e581a1-28d9-4931-9a05-073f83cf533a",
   "metadata": {},
   "source": [
    "#### Example 2: Closest National Park from Each Mine"
   ]
  },
  {
   "cell_type": "code",
   "execution_count": 24,
   "id": "d0eab855-fce7-429e-839b-6e5d3a0ef00f",
   "metadata": {},
   "outputs": [],
   "source": [
    "# Define a function that returns the closest national park\n",
    "def closest_national_park(geom, national_parks):\n",
    "    dist = national_parks.distance(geom)\n",
    "    idx = dist.idxmin()\n",
    "    closest_park = national_parks.loc[idx, 'NAME']\n",
    "    return closest_park"
   ]
  },
  {
   "cell_type": "code",
   "execution_count": 25,
   "id": "f678161e-0055-4674-b737-0feab441cf5b",
   "metadata": {},
   "outputs": [
    {
     "name": "stdout",
     "output_type": "stream",
     "text": [
      "Virunga\n"
     ]
    }
   ],
   "source": [
    "# Call the function on single_mine\n",
    "print(closest_national_park(single_mine, protected_areas_utm))"
   ]
  },
  {
   "cell_type": "code",
   "execution_count": 26,
   "id": "671b17da-3f1a-47ce-b7b5-efbb57fa3312",
   "metadata": {},
   "outputs": [
    {
     "data": {
      "text/html": [
       "<div>\n",
       "<style scoped>\n",
       "    .dataframe tbody tr th:only-of-type {\n",
       "        vertical-align: middle;\n",
       "    }\n",
       "\n",
       "    .dataframe tbody tr th {\n",
       "        vertical-align: top;\n",
       "    }\n",
       "\n",
       "    .dataframe thead th {\n",
       "        text-align: right;\n",
       "    }\n",
       "</style>\n",
       "<table border=\"1\" class=\"dataframe\">\n",
       "  <thead>\n",
       "    <tr style=\"text-align: right;\">\n",
       "      <th></th>\n",
       "      <th>visit_date</th>\n",
       "      <th>name</th>\n",
       "      <th>n_workers</th>\n",
       "      <th>mineral</th>\n",
       "      <th>geometry</th>\n",
       "      <th>closest_park</th>\n",
       "    </tr>\n",
       "  </thead>\n",
       "  <tbody>\n",
       "    <tr>\n",
       "      <th>0</th>\n",
       "      <td>2013-03-27</td>\n",
       "      <td>Mayi-Tatu</td>\n",
       "      <td>150.0</td>\n",
       "      <td>Gold</td>\n",
       "      <td>POINT (29.66033 1.01089)</td>\n",
       "      <td>Lufira</td>\n",
       "    </tr>\n",
       "    <tr>\n",
       "      <th>1</th>\n",
       "      <td>2013-03-27</td>\n",
       "      <td>Mabanga</td>\n",
       "      <td>115.0</td>\n",
       "      <td>Gold</td>\n",
       "      <td>POINT (29.65862 1.00308)</td>\n",
       "      <td>Lufira</td>\n",
       "    </tr>\n",
       "    <tr>\n",
       "      <th>2</th>\n",
       "      <td>2013-03-27</td>\n",
       "      <td>Molende</td>\n",
       "      <td>130.0</td>\n",
       "      <td>Gold</td>\n",
       "      <td>POINT (29.65629 0.98563)</td>\n",
       "      <td>Lufira</td>\n",
       "    </tr>\n",
       "    <tr>\n",
       "      <th>3</th>\n",
       "      <td>2013-03-27</td>\n",
       "      <td>Embouchure</td>\n",
       "      <td>135.0</td>\n",
       "      <td>Gold</td>\n",
       "      <td>POINT (29.64494 0.99976)</td>\n",
       "      <td>Lufira</td>\n",
       "    </tr>\n",
       "    <tr>\n",
       "      <th>4</th>\n",
       "      <td>2013-03-27</td>\n",
       "      <td>Apumu-Atandele-Jerusalem-Luka Yayo</td>\n",
       "      <td>270.0</td>\n",
       "      <td>Gold</td>\n",
       "      <td>POINT (29.66000 0.95600)</td>\n",
       "      <td>Lufira</td>\n",
       "    </tr>\n",
       "  </tbody>\n",
       "</table>\n",
       "</div>"
      ],
      "text/plain": [
       "   visit_date                                name  n_workers mineral  \\\n",
       "0  2013-03-27                           Mayi-Tatu      150.0    Gold   \n",
       "1  2013-03-27                             Mabanga      115.0    Gold   \n",
       "2  2013-03-27                             Molende      130.0    Gold   \n",
       "3  2013-03-27                          Embouchure      135.0    Gold   \n",
       "4  2013-03-27  Apumu-Atandele-Jerusalem-Luka Yayo      270.0    Gold   \n",
       "\n",
       "                   geometry closest_park  \n",
       "0  POINT (29.66033 1.01089)       Lufira  \n",
       "1  POINT (29.65862 1.00308)       Lufira  \n",
       "2  POINT (29.65629 0.98563)       Lufira  \n",
       "3  POINT (29.64494 0.99976)       Lufira  \n",
       "4  POINT (29.66000 0.95600)       Lufira  "
      ]
     },
     "execution_count": 26,
     "metadata": {},
     "output_type": "execute_result"
    }
   ],
   "source": [
    "# Apply the function to all mining sites\n",
    "mining_sites['closest_park'] = mining_sites.geometry.apply(closest_national_park, national_parks=protected_areas_utm)\n",
    "mining_sites.head()"
   ]
  },
  {
   "cell_type": "markdown",
   "id": "2d620d1a-7d07-4481-8132-dce2a43fae9e",
   "metadata": {},
   "source": [
    "### 4.5 Working with Raster Data"
   ]
  },
  {
   "cell_type": "markdown",
   "id": "42adbcec-1901-481b-adb3-187cd3ac2a5a",
   "metadata": {},
   "source": [
    "Rasterized data are pixel grids which can have several channels or **bands** with discrete or continuous values in them. Examples:\n",
    "\n",
    "- Satellite images (3 bands, continuous)\n",
    "- Rain probability map (1 band, continuous)\n",
    "- Elevation map (1 band, continuous)\n",
    "- Land usage raster map (1 band, discrete)\n",
    "\n",
    "The [GDAL](https://gdal.org/index.html) library contains state-of-the-art methods to deal with raster data. A pythonic binding to use GDAL is [RasterIO](https://rasterio.readthedocs.io/en/stable/intro.html). In this section, we'll use `rasterio` along with [`rasterstats`](https://pythonhosted.org/rasterstats/), which allows combining raster datasets with vector geometries.\n",
    "\n",
    "Links:\n",
    "\n",
    "- [RasterIO](https://rasterio.readthedocs.io/en/stable/intro.html)\n",
    "- [GDAL: Geospatial Data Abstraction Library](https://gdal.org/index.html)\n",
    "- [The Open Source Geospatial Foundation: OSGeo](https://www.osgeo.org/)\n",
    "- [rasterstats](https://pythonhosted.org/rasterstats/)\n",
    "\n",
    "Installation:\n",
    "\n",
    "```bash\n",
    "brew install gdal\n",
    "python -m pip install rasterio\n",
    "python -m pip install rasterstats\n",
    "```"
   ]
  },
  {
   "cell_type": "markdown",
   "id": "3e82518e-f841-4589-9b6e-15a2741b9a45",
   "metadata": {},
   "source": [
    "#### Example 1: Visualize Raster Images + Vector Geometries"
   ]
  },
  {
   "cell_type": "code",
   "execution_count": 27,
   "id": "ade9dece-2aca-41ea-9677-7b95bce13a7f",
   "metadata": {},
   "outputs": [],
   "source": [
    "import rasterio\n",
    "import rasterio.plot\n",
    "from shapely.geometry import Point\n",
    "import geopandas as gpd\n",
    "import matplotlib.pyplot as plt"
   ]
  },
  {
   "cell_type": "code",
   "execution_count": 28,
   "id": "9b3a1e7a-66d3-45da-a191-1919d799d274",
   "metadata": {},
   "outputs": [],
   "source": [
    "DATA_PATH = \"../../data/work_geodata/Madagascar_27_01_2020/\""
   ]
  },
  {
   "cell_type": "code",
   "execution_count": 29,
   "id": "6fcdecf4-f7da-4b64-80aa-4d2bd6d262d9",
   "metadata": {},
   "outputs": [],
   "source": [
    "# Open the raster dataset\n",
    "# HOWEVER, only the metadata is loaded\n",
    "# and we can access all the metadata attributes with .\n",
    "src = rasterio.open(DATA_PATH+\"2020-01-27-00_00_2020-01-27-23_59_Landsat_8_(USGS_archive)_B01_(Raw).tiff\")"
   ]
  },
  {
   "cell_type": "code",
   "execution_count": 30,
   "id": "35c53b38-3830-468b-97e3-c0e29fb098db",
   "metadata": {},
   "outputs": [
    {
     "data": {
      "image/png": "[encoded data removed]",
      "text/plain": [
       "<Figure size 432x288 with 1 Axes>"
      ]
     },
     "metadata": {
      "needs_background": "light"
     },
     "output_type": "display_data"
    }
   ],
   "source": [
    "# Visualize\n",
    "ax = rasterio.plot.show(src)"
   ]
  },
  {
   "cell_type": "code",
   "execution_count": 31,
   "id": "22abb2bc-a657-4ece-8141-08c50ff3ee5a",
   "metadata": {},
   "outputs": [
    {
     "name": "stdout",
     "output_type": "stream",
     "text": [
      "EPSG:4326\n"
     ]
    }
   ],
   "source": [
    "print(src.crs)"
   ]
  },
  {
   "cell_type": "code",
   "execution_count": 32,
   "id": "8254625c-4dcd-4a2e-92fa-32ccdd35ec35",
   "metadata": {},
   "outputs": [
    {
     "data": {
      "text/plain": [
       "1"
      ]
     },
     "execution_count": 32,
     "metadata": {},
     "output_type": "execute_result"
    }
   ],
   "source": [
    "src.count # number of bands"
   ]
  },
  {
   "cell_type": "code",
   "execution_count": 33,
   "id": "2e68000b-b687-41f7-ae15-b10d524c29f7",
   "metadata": {},
   "outputs": [
    {
     "data": {
      "text/plain": [
       "(676, 602)"
      ]
     },
     "execution_count": 33,
     "metadata": {},
     "output_type": "execute_result"
    }
   ],
   "source": [
    "src.width, src.height"
   ]
  },
  {
   "cell_type": "code",
   "execution_count": 34,
   "id": "c280daf1-633b-4dd9-9a7e-496723dc8750",
   "metadata": {},
   "outputs": [],
   "source": [
    "# Get numpy array of raster image\n",
    "array = src.read()"
   ]
  },
  {
   "cell_type": "code",
   "execution_count": 35,
   "id": "c05f4566-64c3-4a48-9202-2eb0e2a37a13",
   "metadata": {},
   "outputs": [
    {
     "data": {
      "text/plain": [
       "array([[[   0,    0,    0, ...,    0,    0,    0],\n",
       "        [   0,    0,    0, ...,    0,    0,    0],\n",
       "        [   0,    0,    0, ..., 6960, 6698, 6639],\n",
       "        ...,\n",
       "        [8087, 8087, 8860, ...,    0,    0,    0],\n",
       "        [8113, 8244, 8349, ...,    0,    0,    0],\n",
       "        [7563, 8166, 8251, ...,    0,    0,    0]]], dtype=uint16)"
      ]
     },
     "execution_count": 35,
     "metadata": {},
     "output_type": "execute_result"
    }
   ],
   "source": [
    "array"
   ]
  },
  {
   "cell_type": "code",
   "execution_count": 36,
   "id": "9056fefb-e9e0-4d2c-a01b-ca192c0d2828",
   "metadata": {},
   "outputs": [
    {
     "data": {
      "text/plain": [
       "(1, 602, 676)"
      ]
     },
     "execution_count": 36,
     "metadata": {},
     "output_type": "execute_result"
    }
   ],
   "source": [
    "array.shape"
   ]
  },
  {
   "cell_type": "code",
   "execution_count": 37,
   "id": "45859a62-c509-4b3c-aef8-6e6cb74cdaad",
   "metadata": {},
   "outputs": [
    {
     "data": {
      "text/plain": [
       "BoundingBox(left=46.933594, bottom=-15.591767, right=47.298203, top=-15.278872)"
      ]
     },
     "execution_count": 37,
     "metadata": {},
     "output_type": "execute_result"
    }
   ],
   "source": [
    "src.bounds # bbox"
   ]
  },
  {
   "cell_type": "code",
   "execution_count": 38,
   "id": "df855bb4-d5ff-4f50-9213-c55b2bb1ca28",
   "metadata": {},
   "outputs": [
    {
     "data": {
      "text/plain": [
       "(0.0,)"
      ]
     },
     "execution_count": 38,
     "metadata": {},
     "output_type": "execute_result"
    }
   ],
   "source": [
    "src.offsets"
   ]
  },
  {
   "cell_type": "code",
   "execution_count": 39,
   "id": "e0f41425-464a-464f-9c94-0ddfd2b31d3c",
   "metadata": {},
   "outputs": [
    {
     "data": {
      "text/plain": [
       "(0.0005393624260355052, 0.0005197591362126263)"
      ]
     },
     "execution_count": 39,
     "metadata": {},
     "output_type": "execute_result"
    }
   ],
   "source": [
    "src.res # resolution?"
   ]
  },
  {
   "cell_type": "code",
   "execution_count": 40,
   "id": "71fe8bee-f054-44a9-b532-d5f2e5658893",
   "metadata": {},
   "outputs": [
    {
     "data": {
      "text/plain": [
       "Affine(0.0005393624260355052, 0.0, 46.933594,\n",
       "       0.0, -0.0005197591362126263, -15.278872)"
      ]
     },
     "execution_count": 40,
     "metadata": {},
     "output_type": "execute_result"
    }
   ],
   "source": [
    "src.transform"
   ]
  },
  {
   "cell_type": "code",
   "execution_count": 41,
   "id": "893bd1af-98b4-4c96-8351-1a7a43f2b069",
   "metadata": {},
   "outputs": [],
   "source": [
    "from shapely import Polygon\n",
    "from shapely.geometry import box\n",
    "\n",
    "# Create a GeoSeries of points located on the raster image region\n",
    "pt1 = Point(47.05, -15.40)\n",
    "pt2 = Point(47.15, -15.45)\n",
    "pt3 = Point(47.25, -15.30)\n",
    "# For more information on how to create Shapely objects\n",
    "# https://shapely.readthedocs.io/en/stable/manual.html\n",
    "rectangle = box(minx=46.95, miny=-15.58, maxx=47.28, maxy=-15.28, ccw=True)\n",
    "\n",
    "#shapes = gpd.GeoSeries([pt1, pt2, pt3, rectangle], crs = {'init':  'epsg:4326'})\n",
    "#shapes = gpd.GeoSeries([pt1, pt2, pt3], crs = {'init':  'epsg:4326'})\n",
    "shapes = gpd.GeoSeries([pt1, pt2, pt3], crs = 'epsg:4326')"
   ]
  },
  {
   "cell_type": "code",
   "execution_count": 42,
   "id": "4748ce25-db04-4aac-a25a-546ad64b36e0",
   "metadata": {},
   "outputs": [
    {
     "data": {
      "text/plain": [
       "0    POINT (47.05000 -15.40000)\n",
       "1    POINT (47.15000 -15.45000)\n",
       "2    POINT (47.25000 -15.30000)\n",
       "dtype: geometry"
      ]
     },
     "execution_count": 42,
     "metadata": {},
     "output_type": "execute_result"
    }
   ],
   "source": [
    "shapes"
   ]
  },
  {
   "cell_type": "code",
   "execution_count": 43,
   "id": "7011ee7a-e3cd-466f-b23d-89950c11d4d5",
   "metadata": {},
   "outputs": [
    {
     "data": {
      "text/plain": [
       "0    POINT (47.05000 -15.40000)\n",
       "1    POINT (47.15000 -15.45000)\n",
       "2    POINT (47.25000 -15.30000)\n",
       "dtype: geometry"
      ]
     },
     "execution_count": 43,
     "metadata": {},
     "output_type": "execute_result"
    }
   ],
   "source": [
    "shapes.to_crs(epsg = 4326)"
   ]
  },
  {
   "cell_type": "code",
   "execution_count": 44,
   "id": "c2543659-a4af-4276-bf3a-10b5ed015e9b",
   "metadata": {},
   "outputs": [
    {
     "name": "stdout",
     "output_type": "stream",
     "text": [
      "epsg:4326\n"
     ]
    }
   ],
   "source": [
    "print(shapes.crs)"
   ]
  },
  {
   "cell_type": "code",
   "execution_count": 45,
   "id": "e4f88146-34c7-441a-8c45-afa0432a7a1b",
   "metadata": {},
   "outputs": [
    {
     "data": {
      "image/png": "[encoded data removed]",
      "text/plain": [
       "<Figure size 360x360 with 1 Axes>"
      ]
     },
     "metadata": {
      "needs_background": "light"
     },
     "output_type": "display_data"
    }
   ],
   "source": [
    "# Plot both: raster image + vector geometries\n",
    "# WARNING: Even though both are in the same CRS and have overlapping coordinates\n",
    "# they're not plotted together...\n",
    "fig, ax = plt.subplots(figsize=(5, 5))\n",
    "rasterio.plot.show(src, ax=ax)\n",
    "shapes.plot(ax=ax, markersize=20, color='red')\n",
    "#shapes.plot(markersize=10, color='red')\n",
    "plt.show()"
   ]
  },
  {
   "cell_type": "markdown",
   "id": "7d9cda5a-1fc9-423c-9f93-61c6163f884a",
   "metadata": {},
   "source": [
    "#### Example 2: Extract Information from Raster"
   ]
  },
  {
   "cell_type": "markdown",
   "id": "d64007d3-d232-4988-8c83-b7d8ead84f68",
   "metadata": {},
   "source": [
    "This example broke the kernel, so I'm just writing the snippets from the slides:\n",
    "\n",
    "**Extract raster values with rasterstats**\n",
    "\n",
    "*From points:*\n",
    "\n",
    "```python\n",
    "import rasterstats\n",
    "\n",
    "rasterstats.point_query(geometries, \"path/to/raster\",\n",
    "                        interpolation='nearest'|'bilinear')\n",
    "```\n",
    "\n",
    "*From polygons:*\n",
    "\n",
    "```python\n",
    "import rasterstats\n",
    "rasterstats.zonal_stats(geometries, \"path/to/raster\",\n",
    "                        stats=['min', 'mean', 'max'])\n",
    "```\n",
    "\n",
    "*Example:*\n",
    "\n",
    "```python\n",
    "import rasterstats\n",
    "\n",
    "result = rasterstats.zonal_stats(countries.geometry, \"DEM_gworld.tif\",\n",
    "                                 stats=['mean'])\n",
    "countries['mean_elevation'] = pd.DataFrame(result)\n",
    "countries.sort_values('mean_elevation', ascending=False).head()\n",
    "```"
   ]
  },
  {
   "cell_type": "code",
   "execution_count": null,
   "id": "2b9843f5-aa98-4f7a-9f50-f52886be1bd5",
   "metadata": {},
   "outputs": [],
   "source": []
  }
 ],
 "metadata": {
  "kernelspec": {
   "display_name": "Python 3 (ipykernel)",
   "language": "python",
   "name": "python3"
  },
  "language_info": {
   "codemirror_mode": {
    "name": "ipython",
    "version": 3
   },
   "file_extension": ".py",
   "mimetype": "text/x-python",
   "name": "python",
   "nbconvert_exporter": "python",
   "pygments_lexer": "ipython3",
   "version": "3.7.13"
  }
 },
 "nbformat": 4,
 "nbformat_minor": 5
}
