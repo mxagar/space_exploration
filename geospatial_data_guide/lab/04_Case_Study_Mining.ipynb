{
 "cells": [
  {
   "cell_type": "markdown",
   "id": "827dd094-c876-449f-9b47-c074e6905120",
   "metadata": {},
   "source": [
    "# Case Study: Artisanal Mining Sites in Congo"
   ]
  },
  {
   "cell_type": "markdown",
   "id": "610ed85f-7fcc-4f7a-bcf0-47813c4f99a6",
   "metadata": {},
   "source": [
    "In this notebook, a case study is analyzed: artisanal mining sites in Congo. The data set is from [IPIS: International Peace Service](https://ipisresearch.be). It contains information about the mines: location, minerals being mined, social insecurity situation. More information: [IPIS Open Data Tutorial](https://ipisresearch.be/wp-content/uploads/2018/03/Open_Data_Tutorial.html).\n",
    "\n",
    "\n",
    "Look at the companion guide: [`README.md`](../README.md).\n",
    "\n",
    "Table of contents:\n"
   ]
  },
  {
   "cell_type": "code",
   "execution_count": null,
   "id": "31aea7d0-4b8f-4852-b294-e878a762aaae",
   "metadata": {},
   "outputs": [],
   "source": []
  }
 ],
 "metadata": {
  "kernelspec": {
   "display_name": "Python 3 (ipykernel)",
   "language": "python",
   "name": "python3"
  },
  "language_info": {
   "codemirror_mode": {
    "name": "ipython",
    "version": 3
   },
   "file_extension": ".py",
   "mimetype": "text/x-python",
   "name": "python",
   "nbconvert_exporter": "python",
   "pygments_lexer": "ipython3",
   "version": "3.7.13"
  }
 },
 "nbformat": 4,
 "nbformat_minor": 5
}
