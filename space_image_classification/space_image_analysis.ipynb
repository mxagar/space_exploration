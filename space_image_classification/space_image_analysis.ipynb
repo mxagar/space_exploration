{
 "cells": [
  {
   "cell_type": "markdown",
   "id": "4ebd668b-4b04-486f-a776-d2c2a3095e1d",
   "metadata": {},
   "source": [
    "# Space Image Analysis and Modeling"
   ]
  },
  {
   "cell_type": "markdown",
   "id": "d5ab5f7d-150e-4244-bbbe-f3c4ad2ff71a",
   "metadata": {},
   "source": [
    "This notebook analyzes and models the images contained in the Kaggle dataset [Satellite Image Classification](https://www.kaggle.com/datasets/mahmoudreda55/satellite-image-classification).\n",
    "\n",
    "Table of contents:\n",
    "\n",
    "- A\n",
    "\n",
    "You can open this notebook in Google Colab with the following link:\n",
    "\n"
   ]
  },
  {
   "cell_type": "markdown",
   "id": "af584c3b-dabb-4ac0-a509-8b9ef057cbdd",
   "metadata": {},
   "source": [
    "## 1. Introduction"
   ]
  },
  {
   "cell_type": "code",
   "execution_count": null,
   "id": "7699f182-e136-4e84-9bcc-396c3ef63a5e",
   "metadata": {},
   "outputs": [],
   "source": [
    "import numpy as np\n",
    "import "
   ]
  }
 ],
 "metadata": {
  "kernelspec": {
   "display_name": "Python 3 (ipykernel)",
   "language": "python",
   "name": "python3"
  },
  "language_info": {
   "codemirror_mode": {
    "name": "ipython",
    "version": 3
   },
   "file_extension": ".py",
   "mimetype": "text/x-python",
   "name": "python",
   "nbconvert_exporter": "python",
   "pygments_lexer": "ipython3",
   "version": "3.7.11"
  }
 },
 "nbformat": 4,
 "nbformat_minor": 5
}
